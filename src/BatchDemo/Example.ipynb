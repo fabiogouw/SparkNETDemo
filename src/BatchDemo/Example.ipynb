{
 "cells": [
  {
   "cell_type": "markdown",
   "metadata": {},
   "source": [
    "## Exemplo de Uso do Apache Spark com .NET (cenário Batch)"
   ]
  },
  {
   "cell_type": "code",
   "execution_count": 1,
   "metadata": {},
   "source": [
    "// Baixando e referenciando a biblioteca do .NET for Apache Spark\n",
    "#r \"nuget:Microsoft.Spark, 1.0.0\""
   ],
   "outputs": []
  },
  {
   "cell_type": "code",
   "execution_count": 1,
   "metadata": {},
   "source": [
    "using Microsoft.Spark.Sql;\n",
    "using Microsoft.Spark.Sql.Types;\n",
    "using System;\n",
    "using System.Collections.Generic;\n",
    "using static Microsoft.Spark.Sql.Functions; // Para acessar as funções estáticas Col, RegexpReplace, etc."
   ],
   "outputs": []
  },
  {
   "cell_type": "code",
   "execution_count": 1,
   "metadata": {},
   "source": [
    "// Obtém a referência ao contexto de execução do Spark\n",
    "SparkSession spark = SparkSession\n",
    "    .Builder()\n",
    "    .AppName(\"Exemplo Batch\")\n",
    "    .GetOrCreate();"
   ],
   "outputs": []
  },
  {
   "cell_type": "code",
   "execution_count": 1,
   "metadata": {},
   "source": [
    "// Definindo um schema fixo, com os nomes de coluna que eu quero e seus tipos\n",
    "StructType schema = new StructType(new[]\n",
    "    {\n",
    "        new StructField(\"MES_REFERENCIA\", new StringType()),\n",
    "        new StructField(\"MES_COMPETENCIA\", new StringType()),\n",
    "        new StructField(\"UF\", new StringType()),\n",
    "        new StructField(\"CODIGO_MUNICIPIO\", new IntegerType()),\n",
    "        new StructField(\"MUNICIPIO\", new StringType()),\n",
    "        new StructField(\"CODIGO_FAVORECIDO\", new StringType()),\n",
    "        new StructField(\"NOME\", new StringType()),\n",
    "        new StructField(\"DATA_SAQUE\", new DateType()),\n",
    "        new StructField(\"VALOR_TEXTO\", new StringType())\n",
    "    });"
   ],
   "outputs": []
  },
  {
   "cell_type": "code",
   "execution_count": 1,
   "metadata": {},
   "source": [
    "// Leitura dos dados em disco para dentro do Spark\n",
    "DataFrame df = spark.Read()\n",
    "    .Format(\"csv\")\n",
    "    .Schema(schema)\n",
    "    .Option(\"sep\", \";\")\n",
    "    .Option(\"header\", true)\n",
    "    .Option(\"dateFormat\", \"dd/MM/yyyy\")\n",
    "    .Load(@\"D:\\Projetos\\SparkNETDemo\\src\\BatchDemo\\data\\amostra.csv\");\n",
    "df.PrintSchema();\n",
    "df.Show(5, 10);"
   ],
   "outputs": [
    {
     "output_type": "execute_result",
     "data": {
      "text/plain": "root\n |-- MES_REFERENCIA: string (nullable = true)\n |-- MES_COMPETENCIA: string (nullable = true)\n |-- UF: string (nullable = true)\n |-- CODIGO_MUNICIPIO: integer (nullable = true)\n |-- MUNICIPIO: string (nullable = true)\n |-- CODIGO_FAVORECIDO: string (nullable = true)\n |-- NOME: string (nullable = true)\n |-- DATA_SAQUE: date (nullable = true)\n |-- VALOR_TEXTO: string (nullable = true)\n\r\n"
     },
     "execution_count": 1,
     "metadata": {}
    },
    {
     "output_type": "execute_result",
     "data": {
      "text/plain": "+--------------+---------------+---+----------------+----------+-----------------+----------+----------+-----------+\n|MES_REFERENCIA|MES_COMPETENCIA| UF|CODIGO_MUNICIPIO| MUNICIPIO|CODIGO_FAVORECIDO|      NOME|DATA_SAQUE|VALOR_TEXTO|\n+--------------+---------------+---+----------------+----------+-----------------+----------+----------+-----------+\n|        201910|         201910| AC|             643|ACRELANDIA|       1616761...|ABIGAIL...|2019-10-24|     171,00|\n|        201910|         201910| AC|             643|ACRELANDIA|       2122146...|ADALCIL...|2019-10-31|     346,00|\n|        201910|         201910| AC|             643|ACRELANDIA|       1612006...|ADALGIZ...|2019-10-28|     178,00|\n|        201910|         201910| AC|             643|ACRELANDIA|       2120822...|ADEIDE ...|2019-10-24|     334,00|\n|        201910|         201910| AC|             643|ACRELANDIA|       1603692...|ADELINA...|2019-10-21|     457,00|\n+--------------+---------------+---+----------------+----------+-----------------+----------+----------+-----------+\nonly showing top 5 rows\n\r\n"
     },
     "execution_count": 1,
     "metadata": {}
    }
   ]
  },
  {
   "cell_type": "code",
   "execution_count": 1,
   "metadata": {},
   "source": [
    "// Removendo colunas que não precisamos mais\n",
    "df = df.Drop(\"MES_REFERENCIA\")\n",
    "    .Drop(\"MES_COMPETENCIA\")\n",
    "    .Drop(\"CODIGO_MUNICIPIO\")\n",
    "    .Drop(\"CODIGO_FAVORECIDO\");\n",
    "df.Show(5, 10);"
   ],
   "outputs": [
    {
     "output_type": "execute_result",
     "data": {
      "text/plain": "+---+----------+----------+----------+-----------+\n| UF| MUNICIPIO|      NOME|DATA_SAQUE|VALOR_TEXTO|\n+---+----------+----------+----------+-----------+\n| AC|ACRELANDIA|ABIGAIL...|2019-10-24|     171,00|\n| AC|ACRELANDIA|ADALCIL...|2019-10-31|     346,00|\n| AC|ACRELANDIA|ADALGIZ...|2019-10-28|     178,00|\n| AC|ACRELANDIA|ADEIDE ...|2019-10-24|     334,00|\n| AC|ACRELANDIA|ADELINA...|2019-10-21|     457,00|\n+---+----------+----------+----------+-----------+\nonly showing top 5 rows\n\r\n"
     },
     "execution_count": 1,
     "metadata": {}
    }
   ]
  },
  {
   "cell_type": "code",
   "execution_count": 1,
   "metadata": {},
   "source": [
    "// Convertendo a coluna VALOR de string para decimal, considerando que o padrão brasileiro é diferente do americano\n",
    "df = df.WithColumn(\"VALOR\", RegexpReplace(\n",
    "                                        RegexpReplace(Col(\"VALOR_TEXTO\"), \"\\\\.\", \"\")\n",
    "                                        , \",\", \".\")\n",
    "        .Cast(\"decimal(10,2)\"))\n",
    ".Drop(\"VALOR_TEXTO\");\n",
    "df.PrintSchema();\n",
    "df.Show(5, 10);"
   ],
   "outputs": [
    {
     "output_type": "execute_result",
     "data": {
      "text/plain": "root\n |-- UF: string (nullable = true)\n |-- MUNICIPIO: string (nullable = true)\n |-- NOME: string (nullable = true)\n |-- DATA_SAQUE: date (nullable = true)\n |-- VALOR: decimal(10,2) (nullable = true)\n\r\n"
     },
     "execution_count": 1,
     "metadata": {}
    },
    {
     "output_type": "execute_result",
     "data": {
      "text/plain": "+---+----------+----------+----------+------+\n| UF| MUNICIPIO|      NOME|DATA_SAQUE| VALOR|\n+---+----------+----------+----------+------+\n| AC|ACRELANDIA|ABIGAIL...|2019-10-24|171.00|\n| AC|ACRELANDIA|ADALCIL...|2019-10-31|346.00|\n| AC|ACRELANDIA|ADALGIZ...|2019-10-28|178.00|\n| AC|ACRELANDIA|ADEIDE ...|2019-10-24|334.00|\n| AC|ACRELANDIA|ADELINA...|2019-10-21|457.00|\n+---+----------+----------+----------+------+\nonly showing top 5 rows\n\r\n"
     },
     "execution_count": 1,
     "metadata": {}
    }
   ]
  },
  {
   "cell_type": "code",
   "execution_count": 1,
   "metadata": {},
   "source": [
    "// Efetuando um filtro em cima dos dados\n",
    "df = df.Where(df.Col(\"UF\").NotEqual(\"AC\"));\n",
    "//df = df.Where(\"UF <> 'AC'\");  // passar uma expressão WHERE também funciona como filtro\n",
    "df.Show(5, 10);"
   ],
   "outputs": [
    {
     "output_type": "execute_result",
     "data": {
      "text/plain": "+---+----------+----------+----------+------+\n| UF| MUNICIPIO|      NOME|DATA_SAQUE| VALOR|\n+---+----------+----------+----------+------+\n| RJ|SAO GON...|NICOLY ...|2019-10-22|246.00|\n| RJ|SAO GON...|NIDEIA ...|2019-11-08| 89.00|\n| RJ|SAO GON...|NIDIA P...|2019-10-22|268.00|\n| RJ|SAO GON...|NIEDJA ...|2019-10-30|178.00|\n| RJ|SAO GON...|NIEDJA ...|2019-10-21|130.00|\n+---+----------+----------+----------+------+\nonly showing top 5 rows\n\r\n"
     },
     "execution_count": 1,
     "metadata": {}
    }
   ]
  },
  {
   "cell_type": "code",
   "execution_count": 1,
   "metadata": {},
   "source": [
    "// Efetua uma agregação dos dados (somar valores pagos por município)\n",
    "DataFrame somatorio = df.GroupBy(\"UF\", \"MUNICIPIO\")\n",
    "    .Sum(\"VALOR\")\n",
    "    .WithColumnRenamed(\"sum(VALOR)\", \"SOMA_BENEFICIOS\");\n",
    "somatorio\n",
    ".OrderBy(somatorio.Col(\"SOMA_BENEFICIOS\").Desc())\n",
    ".Show(15, 40);"
   ],
   "outputs": [
    {
     "output_type": "execute_result",
     "data": {
      "text/plain": "+---+------------------------+---------------+\n| UF|               MUNICIPIO|SOMA_BENEFICIOS|\n+---+------------------------+---------------+\n| RJ|             SAO GONCALO|     1738096.00|\n| SP|              SAO CARLOS|     1267911.00|\n| SP|   SAO BERNARDO DO CAMPO|      173999.00|\n| SP|      SAO CAETANO DO SUL|      130793.00|\n| SP|   SAO JOAO DA BOA VISTA|      105278.00|\n| SP|    SAO JOAQUIM DA BARRA|       46401.00|\n| SP|  SAO JOAO DO PAU D'ALHO|       17808.00|\n| SP|           SAO FRANCISCO|       11138.00|\n| SP|SAO JOAO DAS DUAS PONTES|        7563.00|\n| SP|     SAO JOAO DE IRACEMA|        7164.00|\n+---+------------------------+---------------+\n\r\n"
     },
     "execution_count": 1,
     "metadata": {}
    }
   ]
  },
  {
   "cell_type": "code",
   "execution_count": 1,
   "metadata": {},
   "source": [
    "var propriedades = new Dictionary<string, string>()\n",
    "{\n",
    "    { \"user\", \"spark_user\" },\n",
    "    { \"password\", \"my-secret-password\" }\n",
    "};\n",
    "// Salvando em banco de dados com funcionalidade nativa do Spark\n",
    "somatorio\n",
    "    .Write()\n",
    "    .Mode(SaveMode.Overwrite)\n",
    "    .Option(\"driver\", \"com.mysql.cj.jdbc.Driver\")\n",
    "    .Jdbc(\"jdbc:mysql://localhost:3306/teste_spark\", \"beneficios\", propriedades);"
   ],
   "outputs": []
  }
 ],
 "metadata": {
  "kernelspec": {
   "display_name": ".NET (C#)",
   "language": "C#",
   "name": ".net-csharp"
  },
  "language_info": {
   "file_extension": ".cs",
   "mimetype": "text/x-csharp",
   "name": "C#",
   "pygments_lexer": "csharp",
   "version": "8.0"
  }
 },
 "nbformat": 4,
 "nbformat_minor": 4
}